{
 "cells": [
  {
   "cell_type": "code",
   "execution_count": 1,
   "id": "5375cf90",
   "metadata": {},
   "outputs": [],
   "source": [
    "threshold = 0.005  # i.e., 0.5% movement\n"
   ]
  },
  {
   "cell_type": "code",
   "execution_count": 4,
   "id": "7a61d4d0",
   "metadata": {},
   "outputs": [],
   "source": [
    "import pandas as pd\n",
    "\n",
    "# Load your dataset with FinBERT sentiment\n",
    "df = pd.read_csv(\"../data/features_btc_with_sentiment.csv\", parse_dates=[\"Date\"])\n",
    "df = df.sort_values(\"Date\").reset_index(drop=True)\n",
    "\n",
    "# Step 1: Calculate price change percentage\n",
    "df['close_pct_change'] = df['Close'].pct_change()\n",
    "\n",
    "# Step 2: Define thresholds\n",
    "threshold = 0.005  # 0.5% up/down\n",
    "\n",
    "def synthetic_sentiment(change):\n",
    "    if pd.isna(change):\n",
    "        return 0\n",
    "    elif change > threshold:\n",
    "        return 1\n",
    "    elif change < -threshold:\n",
    "        return -1\n",
    "    else:\n",
    "        return 0\n",
    "\n",
    "# Step 3: Create a new column for fallback sentiment\n",
    "df['synthetic_fallback'] = df['close_pct_change'].apply(synthetic_sentiment)\n",
    "\n",
    "# Step 4: Inject synthetic only where sentiment is missing or zero\n",
    "df['daily_sentiment'] = df.apply(\n",
    "    lambda row: row['synthetic_fallback'] if (pd.isna(row['daily_sentiment']) or row['daily_sentiment'] == 0) else row['daily_sentiment'],\n",
    "    axis=1\n",
    ")\n",
    "\n",
    "# Cleanup\n",
    "df.drop(columns=['close_pct_change', 'synthetic_fallback'], inplace=True)\n",
    "\n",
    "# Save final dataset\n",
    "df.to_csv(\"../data/features_btc_with_hybrid_sentiment.csv\", index=False)\n"
   ]
  },
  {
   "cell_type": "code",
   "execution_count": null,
   "id": "adb3aa4f",
   "metadata": {},
   "outputs": [],
   "source": []
  }
 ],
 "metadata": {
  "kernelspec": {
   "display_name": "venv",
   "language": "python",
   "name": "python3"
  },
  "language_info": {
   "codemirror_mode": {
    "name": "ipython",
    "version": 3
   },
   "file_extension": ".py",
   "mimetype": "text/x-python",
   "name": "python",
   "nbconvert_exporter": "python",
   "pygments_lexer": "ipython3",
   "version": "3.12.10"
  }
 },
 "nbformat": 4,
 "nbformat_minor": 5
}
